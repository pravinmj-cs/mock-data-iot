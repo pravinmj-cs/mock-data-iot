{
 "metadata": {
  "language_info": {
   "codemirror_mode": {
    "name": "ipython",
    "version": 3
   },
   "file_extension": ".py",
   "mimetype": "text/x-python",
   "name": "python",
   "nbconvert_exporter": "python",
   "pygments_lexer": "ipython3",
   "version": "3.8.5"
  },
  "orig_nbformat": 2,
  "kernelspec": {
   "name": "python3",
   "display_name": "Python 3.8.5 64-bit ('venv': venv)",
   "metadata": {
    "interpreter": {
     "hash": "b2fe2f6565375ba174d200e8683621296c8fbcd180ad934fa2be406d5f8f993d"
    }
   }
  }
 },
 "nbformat": 4,
 "nbformat_minor": 2,
 "cells": [
  {
   "cell_type": "code",
   "execution_count": 1,
   "metadata": {},
   "outputs": [],
   "source": [
    "import psycopg2\n",
    "from database import databaseconn\n",
    "from faker import Faker\n",
    "import database as creds\n",
    "from sqlalchemy import create_engine\n",
    "fake = Faker()\n",
    "import pandas as pd"
   ]
  },
  {
   "cell_type": "code",
   "execution_count": 2,
   "metadata": {},
   "outputs": [],
   "source": [
    "engine = create_engine('postgresql://'+creds.username+':'+creds.password+'@'+creds.host+':'+creds.port+'/'+creds.dbname)\n"
   ]
  },
  {
   "cell_type": "code",
   "execution_count": 3,
   "metadata": {},
   "outputs": [],
   "source": [
    "def getListDictRs(cur):\n",
    "    desc = cur.description\n",
    "    return [dict(zip([col[0] for col in desc], row)) for row in cur.fetchall()]\n"
   ]
  },
  {
   "cell_type": "code",
   "execution_count": 4,
   "metadata": {},
   "outputs": [],
   "source": [
    "def insert_owner(name):\n",
    "    try:\n",
    "        conn = databaseconn()\n",
    "        query = \"\"\"\n",
    "                    insert into owner(name) values('%s')\n",
    "                \"\"\" % (name)\n",
    "        with conn, conn.cursor() as cur:  # start a transaction and create a cursor\n",
    "            cur.execute(query)\n",
    "            res = cur.fetchone()\n",
    "            return res\n",
    "    except psycopg2.DatabaseError as error:\n",
    "        conn.rollback()\n",
    "    \n"
   ]
  },
  {
   "cell_type": "code",
   "execution_count": 5,
   "metadata": {},
   "outputs": [],
   "source": [
    "# def get_owner_list():\n",
    "#     query = \"\"\"\n",
    "#                 select id, name from owner\n",
    "#             \"\"\"\n",
    "#     cur.execute(query)\n",
    "#     data = getListDictRs(cur)\n",
    "#     return None"
   ]
  },
  {
   "cell_type": "code",
   "execution_count": 6,
   "metadata": {},
   "outputs": [],
   "source": [
    "total_names = 5\n",
    "devices = 2"
   ]
  },
  {
   "cell_type": "code",
   "execution_count": 7,
   "metadata": {},
   "outputs": [],
   "source": [
    "name_list = []"
   ]
  },
  {
   "cell_type": "code",
   "execution_count": 8,
   "metadata": {},
   "outputs": [],
   "source": [
    "def get_name_list(count):\n",
    "    name_list = []\n",
    "    for c in range(count):\n",
    "        name = fake.name()\n",
    "        while name not in name_list:\n",
    "           name_list.append(name)\n",
    "    return name_list"
   ]
  },
  {
   "cell_type": "code",
   "execution_count": 17,
   "metadata": {},
   "outputs": [],
   "source": [
    "names = get_name_list(10)\n",
    "names_df=pd.DataFrame([{'name':n} for n in names])\n",
    "names_df.to_sql(\"owner\", engine, if_exists=\"append\",index=False)\n"
   ]
  },
  {
   "source": [
    "## Get created data from table"
   ],
   "cell_type": "markdown",
   "metadata": {}
  },
  {
   "cell_type": "code",
   "execution_count": 18,
   "metadata": {},
   "outputs": [],
   "source": [
    "names_df = pd.read_sql(\n",
    "    \"SELECT * FROM owner\",\n",
    "    con=engine\n",
    ")"
   ]
  },
  {
   "cell_type": "code",
   "execution_count": 19,
   "metadata": {},
   "outputs": [],
   "source": [
    "name_list = names_df.to_dict('records')"
   ]
  },
  {
   "cell_type": "code",
   "execution_count": 20,
   "metadata": {},
   "outputs": [],
   "source": [
    "device_list = []\n",
    "for name in name_list:\n",
    "    for device in range(1, devices+1):\n",
    "        devide_id = f\"{name['name'][:2]}000{device}\"\n",
    "        device_list.append({'owner':name['id'], 'device':devide_id})\n",
    "\n"
   ]
  },
  {
   "cell_type": "code",
   "execution_count": 21,
   "metadata": {},
   "outputs": [],
   "source": [
    "device_df = pd.DataFrame(device_list)"
   ]
  },
  {
   "cell_type": "code",
   "execution_count": 22,
   "metadata": {},
   "outputs": [
    {
     "output_type": "execute_result",
     "data": {
      "text/plain": [
       "   owner  device\n",
       "0     99  Jo0001\n",
       "1     99  Jo0002"
      ],
      "text/html": "<div>\n<style scoped>\n    .dataframe tbody tr th:only-of-type {\n        vertical-align: middle;\n    }\n\n    .dataframe tbody tr th {\n        vertical-align: top;\n    }\n\n    .dataframe thead th {\n        text-align: right;\n    }\n</style>\n<table border=\"1\" class=\"dataframe\">\n  <thead>\n    <tr style=\"text-align: right;\">\n      <th></th>\n      <th>owner</th>\n      <th>device</th>\n    </tr>\n  </thead>\n  <tbody>\n    <tr>\n      <th>0</th>\n      <td>99</td>\n      <td>Jo0001</td>\n    </tr>\n    <tr>\n      <th>1</th>\n      <td>99</td>\n      <td>Jo0002</td>\n    </tr>\n  </tbody>\n</table>\n</div>"
     },
     "metadata": {},
     "execution_count": 22
    }
   ],
   "source": [
    "device_df.head(2)"
   ]
  },
  {
   "cell_type": "code",
   "execution_count": 23,
   "metadata": {},
   "outputs": [],
   "source": [
    "device_df.to_sql(\"owner_device\", engine, if_exists=\"append\",index=False)"
   ]
  },
  {
   "cell_type": "code",
   "execution_count": 25,
   "metadata": {},
   "outputs": [],
   "source": [
    "devices = device_df.to_dict('records')"
   ]
  },
  {
   "cell_type": "code",
   "execution_count": 27,
   "metadata": {},
   "outputs": [],
   "source": [
    "device_df = pd.read_sql(\n",
    "    \"SELECT * FROM owner_device\",\n",
    "    con=engine\n",
    ")"
   ]
  },
  {
   "cell_type": "code",
   "execution_count": 28,
   "metadata": {},
   "outputs": [
    {
     "output_type": "execute_result",
     "data": {
      "text/plain": [
       "   id  owner  device\n",
       "0   1     99  Jo0001\n",
       "1   2     99  Jo0002\n",
       "2   3    100  Th0001\n",
       "3   4    100  Th0002\n",
       "4   5    101  Mr0001"
      ],
      "text/html": "<div>\n<style scoped>\n    .dataframe tbody tr th:only-of-type {\n        vertical-align: middle;\n    }\n\n    .dataframe tbody tr th {\n        vertical-align: top;\n    }\n\n    .dataframe thead th {\n        text-align: right;\n    }\n</style>\n<table border=\"1\" class=\"dataframe\">\n  <thead>\n    <tr style=\"text-align: right;\">\n      <th></th>\n      <th>id</th>\n      <th>owner</th>\n      <th>device</th>\n    </tr>\n  </thead>\n  <tbody>\n    <tr>\n      <th>0</th>\n      <td>1</td>\n      <td>99</td>\n      <td>Jo0001</td>\n    </tr>\n    <tr>\n      <th>1</th>\n      <td>2</td>\n      <td>99</td>\n      <td>Jo0002</td>\n    </tr>\n    <tr>\n      <th>2</th>\n      <td>3</td>\n      <td>100</td>\n      <td>Th0001</td>\n    </tr>\n    <tr>\n      <th>3</th>\n      <td>4</td>\n      <td>100</td>\n      <td>Th0002</td>\n    </tr>\n    <tr>\n      <th>4</th>\n      <td>5</td>\n      <td>101</td>\n      <td>Mr0001</td>\n    </tr>\n  </tbody>\n</table>\n</div>"
     },
     "metadata": {},
     "execution_count": 28
    }
   ],
   "source": [
    "device_df.head()"
   ]
  },
  {
   "cell_type": "code",
   "execution_count": 29,
   "metadata": {},
   "outputs": [],
   "source": [
    "devices = device_df.to_dict('records')"
   ]
  },
  {
   "cell_type": "code",
   "execution_count": 30,
   "metadata": {},
   "outputs": [
    {
     "output_type": "error",
     "ename": "SyntaxError",
     "evalue": "unexpected EOF while parsing (<ipython-input-30-666fa1a59910>, line 1)",
     "traceback": [
      "\u001b[0;36m  File \u001b[0;32m\"<ipython-input-30-666fa1a59910>\"\u001b[0;36m, line \u001b[0;32m1\u001b[0m\n\u001b[0;31m    for device in devices:\u001b[0m\n\u001b[0m                          ^\u001b[0m\n\u001b[0;31mSyntaxError\u001b[0m\u001b[0;31m:\u001b[0m unexpected EOF while parsing\n"
     ]
    }
   ],
   "source": [
    "for device in devices:\n"
   ]
  },
  {
   "cell_type": "code",
   "execution_count": 38,
   "metadata": {},
   "outputs": [
    {
     "output_type": "stream",
     "name": "stdout",
     "text": [
      "\n",
      "\n",
      "***** Interval type can be 'day', 'month', or 'year' *****\n",
      "Enter value only of 'day' or 'month' or 'year'!!! \n",
      "\n",
      "\n",
      "***** Interval period can be only 'hour', 'minute', or 'day' *****\n"
     ]
    }
   ],
   "source": [
    "try:\n",
    "    total_companies = int(input(\"Enter the total number of companies: \"))\n",
    "    device_per_company = int(\n",
    "        input(\"Enter the number of devices to be generated for each company: \")\n",
    "    )\n",
    "    # data generation for day, month or year\n",
    "    print(\"\\n\")\n",
    "    print(\"***** Interval type can be 'day', 'month', or 'year' *****\")\n",
    "    interval_type = str(input(\"Enter the interval type: \"))\n",
    "    while interval_type not in [\"day\", \"month\", \"year\"]:\n",
    "        print(\"Enter value only of 'day' or 'month' or 'year'!!! \")\n",
    "        interval_type = str(input(\"Enter the interval type: \"))\n",
    "    # How many length based on above interval_type\n",
    "    interval_length = int(input(\"Enter the interval length(only numeric): \"))\n",
    "    # Interval Period - hour, minute, day\n",
    "    print(\"\\n\")\n",
    "    print(\"***** Interval period can be only 'hour', 'minute', or 'day' *****\")\n",
    "    interval_period = str(input(\"Enter interval period: \"))\n",
    "    while interval_period not in [\"hour\", \"minute\", \"day\"]:\n",
    "        print(\"Enter value only of 'hour' or 'minute' or 'day'!!! \")\n",
    "        interval_period = str(input(\"Enter interval period: \"))\n",
    "        \n",
    "    # duration between each data- based on above interval period\n",
    "    interval_duration = input(\"Enter interval duration(only numeric): \")\n",
    "    # if interval_type is year and interval_length is 2 -data will be generated for 2 years\n",
    "    series_interval_length = f\"{interval_length} {interval_type}\"\n",
    "    # if interval_period is hour and interval_duration is 3 -data will be generated for every 3 hours\n",
    "    series_interval_duration = f\"{interval_duration} {interval_period}\"\n",
    "\n",
    "except ValueError:\n",
    "    print(\"Enter only numbers !!! \")\n",
    "    sys.exit()\n"
   ]
  },
  {
   "cell_type": "code",
   "execution_count": 48,
   "metadata": {},
   "outputs": [
    {
     "output_type": "stream",
     "name": "stdout",
     "text": [
      "Data inserted for Jo0001\n",
      "Data inserted for Jo0002\n",
      "Data inserted for Th0001\n",
      "Data inserted for Th0002\n",
      "Data inserted for Mr0001\n",
      "Data inserted for Mr0002\n",
      "Data inserted for Jo0001\n",
      "Data inserted for Jo0002\n",
      "Data inserted for Me0001\n",
      "Data inserted for Me0002\n",
      "Data inserted for Dr0001\n",
      "Data inserted for Dr0002\n",
      "Data inserted for Lo0001\n",
      "Data inserted for Lo0002\n",
      "Data inserted for Ma0001\n",
      "Data inserted for Ma0002\n",
      "Data inserted for Sh0001\n",
      "Data inserted for Sh0002\n",
      "Data inserted for Ed0001\n",
      "Data inserted for Ed0002\n"
     ]
    }
   ],
   "source": [
    "for data in devices:\n",
    "    conn = databaseconn()\n",
    "    query = \"\"\" INSERT INTO device_data (datetime, device_id, temperature, humidity)\n",
    "                SELECT\n",
    "                datetime,\n",
    "                device_id,\n",
    "                random()*40 AS temperature,\n",
    "                random()*40 As humidity\n",
    "                FROM generate_series(now() - interval '%s', now(), interval '%s') AS g1(datetime),\n",
    "                generate_series(%s,%s) AS g2(device_id)\n",
    "            \"\"\"% (series_interval_length, series_interval_duration, data[\"id\"], data[\"id\"])\n",
    "    with conn, conn.cursor() as cur:\n",
    "        cur.execute(query)\n",
    "    print(f\"Data inserted for {data['device']}\")\n",
    "    "
   ]
  },
  {
   "cell_type": "code",
   "execution_count": null,
   "metadata": {},
   "outputs": [],
   "source": []
  },
  {
   "cell_type": "code",
   "execution_count": null,
   "metadata": {},
   "outputs": [],
   "source": []
  }
 ]
}